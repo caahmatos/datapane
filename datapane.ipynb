{
 "cells": [
  {
   "cell_type": "code",
   "execution_count": 60,
   "metadata": {},
   "outputs": [
    {
     "name": "stdout",
     "output_type": "stream",
     "text": [
      "Requirement already satisfied: geopandas in c:\\users\\carol\\appdata\\local\\programs\\python\\python311\\lib\\site-packages (0.13.0)Note: you may need to restart the kernel to use updated packages.\n",
      "\n",
      "Requirement already satisfied: fiona>=1.8.19 in c:\\users\\carol\\appdata\\local\\programs\\python\\python311\\lib\\site-packages (from geopandas) (1.9.4.post1)\n",
      "Requirement already satisfied: packaging in c:\\users\\carol\\appdata\\roaming\\python\\python311\\site-packages (from geopandas) (23.1)\n",
      "Requirement already satisfied: pandas>=1.1.0 in c:\\users\\carol\\appdata\\local\\programs\\python\\python311\\lib\\site-packages (from geopandas) (1.5.3)\n",
      "Requirement already satisfied: pyproj>=3.0.1 in c:\\users\\carol\\appdata\\local\\programs\\python\\python311\\lib\\site-packages (from geopandas) (3.5.0)\n",
      "Requirement already satisfied: shapely>=1.7.1 in c:\\users\\carol\\appdata\\local\\programs\\python\\python311\\lib\\site-packages (from geopandas) (2.0.1)\n",
      "Requirement already satisfied: attrs>=19.2.0 in c:\\users\\carol\\appdata\\local\\programs\\python\\python311\\lib\\site-packages (from fiona>=1.8.19->geopandas) (23.1.0)\n",
      "Requirement already satisfied: certifi in c:\\users\\carol\\appdata\\local\\programs\\python\\python311\\lib\\site-packages (from fiona>=1.8.19->geopandas) (2023.5.7)\n",
      "Requirement already satisfied: click~=8.0 in c:\\users\\carol\\appdata\\local\\programs\\python\\python311\\lib\\site-packages (from fiona>=1.8.19->geopandas) (8.1.3)\n",
      "Requirement already satisfied: click-plugins>=1.0 in c:\\users\\carol\\appdata\\local\\programs\\python\\python311\\lib\\site-packages (from fiona>=1.8.19->geopandas) (1.1.1)\n",
      "Requirement already satisfied: cligj>=0.5 in c:\\users\\carol\\appdata\\local\\programs\\python\\python311\\lib\\site-packages (from fiona>=1.8.19->geopandas) (0.7.2)\n",
      "Requirement already satisfied: six in c:\\users\\carol\\appdata\\roaming\\python\\python311\\site-packages (from fiona>=1.8.19->geopandas) (1.16.0)\n",
      "Requirement already satisfied: python-dateutil>=2.8.1 in c:\\users\\carol\\appdata\\roaming\\python\\python311\\site-packages (from pandas>=1.1.0->geopandas) (2.8.2)\n",
      "Requirement already satisfied: pytz>=2020.1 in c:\\users\\carol\\appdata\\local\\programs\\python\\python311\\lib\\site-packages (from pandas>=1.1.0->geopandas) (2023.3)\n",
      "Requirement already satisfied: numpy>=1.21.0 in c:\\users\\carol\\appdata\\local\\programs\\python\\python311\\lib\\site-packages (from pandas>=1.1.0->geopandas) (1.24.3)\n",
      "Requirement already satisfied: colorama in c:\\users\\carol\\appdata\\roaming\\python\\python311\\site-packages (from click~=8.0->fiona>=1.8.19->geopandas) (0.4.6)\n"
     ]
    }
   ],
   "source": [
    "%pip install geopandas"
   ]
  },
  {
   "cell_type": "code",
   "execution_count": 61,
   "metadata": {},
   "outputs": [],
   "source": [
    "import datapane as dp\n",
    "\n",
    "import pandas as pd\n",
    "import numpy as np\n",
    "import datetime as dt\n",
    "from datetime import datetime\n",
    "import geopandas as gdp\n",
    "\n",
    "import json\n",
    "from urllib.request import urlopen\n",
    "\n",
    "import plotly.express as px"
   ]
  },
  {
   "cell_type": "code",
   "execution_count": 62,
   "metadata": {},
   "outputs": [
    {
     "data": {
      "text/html": [
       "<div>\n",
       "<style scoped>\n",
       "    .dataframe tbody tr th:only-of-type {\n",
       "        vertical-align: middle;\n",
       "    }\n",
       "\n",
       "    .dataframe tbody tr th {\n",
       "        vertical-align: top;\n",
       "    }\n",
       "\n",
       "    .dataframe thead th {\n",
       "        text-align: right;\n",
       "    }\n",
       "</style>\n",
       "<table border=\"1\" class=\"dataframe\">\n",
       "  <thead>\n",
       "    <tr style=\"text-align: right;\">\n",
       "      <th></th>\n",
       "      <th>municipio_id</th>\n",
       "      <th>municipio</th>\n",
       "      <th>estado</th>\n",
       "      <th>tempo_habitual_desloc</th>\n",
       "      <th>qtd_pessoas</th>\n",
       "      <th>tempo_medio_minutos</th>\n",
       "    </tr>\n",
       "  </thead>\n",
       "  <tbody>\n",
       "    <tr>\n",
       "      <th>0</th>\n",
       "      <td>1200013</td>\n",
       "      <td>Acrelândia</td>\n",
       "      <td>AC</td>\n",
       "      <td>005</td>\n",
       "      <td>510</td>\n",
       "      <td>0</td>\n",
       "    </tr>\n",
       "    <tr>\n",
       "      <th>1</th>\n",
       "      <td>1200013</td>\n",
       "      <td>Acrelândia</td>\n",
       "      <td>AC</td>\n",
       "      <td>030</td>\n",
       "      <td>1925</td>\n",
       "      <td>0</td>\n",
       "    </tr>\n",
       "    <tr>\n",
       "      <th>2</th>\n",
       "      <td>1200013</td>\n",
       "      <td>Acrelândia</td>\n",
       "      <td>AC</td>\n",
       "      <td>060</td>\n",
       "      <td>277</td>\n",
       "      <td>0</td>\n",
       "    </tr>\n",
       "    <tr>\n",
       "      <th>3</th>\n",
       "      <td>1200013</td>\n",
       "      <td>Acrelândia</td>\n",
       "      <td>AC</td>\n",
       "      <td>120</td>\n",
       "      <td>62</td>\n",
       "      <td>0</td>\n",
       "    </tr>\n",
       "    <tr>\n",
       "      <th>4</th>\n",
       "      <td>1200013</td>\n",
       "      <td>Acrelândia</td>\n",
       "      <td>AC</td>\n",
       "      <td>120+</td>\n",
       "      <td>28</td>\n",
       "      <td>0</td>\n",
       "    </tr>\n",
       "  </tbody>\n",
       "</table>\n",
       "</div>"
      ],
      "text/plain": [
       "  municipio_id   municipio estado tempo_habitual_desloc  qtd_pessoas  \\\n",
       "0      1200013  Acrelândia     AC                   005          510   \n",
       "1      1200013  Acrelândia     AC                   030         1925   \n",
       "2      1200013  Acrelândia     AC                   060          277   \n",
       "3      1200013  Acrelândia     AC                   120           62   \n",
       "4      1200013  Acrelândia     AC                  120+           28   \n",
       "\n",
       "   tempo_medio_minutos  \n",
       "0                    0  \n",
       "1                    0  \n",
       "2                    0  \n",
       "3                    0  \n",
       "4                    0  "
      ]
     },
     "execution_count": 62,
     "metadata": {},
     "output_type": "execute_result"
    }
   ],
   "source": [
    "# Importa os dados do SIDRA\n",
    "df = pd.read_csv(\n",
    "    'deslocamento_municipios.txt', \n",
    "    sep='\\t', \n",
    "    encoding='ISO-8859-1',\n",
    "    usecols=['municipio_id', 'municipio', 'estado', 'tempo_habitual_desloc', 'qtd_pessoas', 'tempo_medio_minutos']\n",
    ")\n",
    "\n",
    "replaces = {'None': 0, '5': '005', '30': '030', '60': '060'}\n",
    "\n",
    "df.replace(replaces, inplace=True)   \n",
    "\n",
    "df = (\n",
    "    df\n",
    "    .assign(\n",
    "        qtd_pessoas = df.qtd_pessoas.astype(int),\n",
    "        tempo_medio_minutos = df.tempo_medio_minutos.astype(int),\n",
    "        municipio_id = df.municipio_id.astype(str) \n",
    "    ) \n",
    ")\n",
    "df.head()"
   ]
  },
  {
   "cell_type": "code",
   "execution_count": 63,
   "metadata": {},
   "outputs": [],
   "source": [
    "pop_estado = (\n",
    "    df \n",
    "    .groupby('estado').qtd_pessoas.sum()\n",
    "    .reset_index()\n",
    "    .rename(columns={'qtd_pessoas': 'total_pop'})\n",
    ")\n",
    "state = (\n",
    "    df \n",
    "    .query('tempo_habitual_desloc != \"Total\"')\n",
    "    .copy()\n",
    "    .groupby(['estado', 'tempo_habitual_desloc']).qtd_pessoas.sum()\n",
    "    .reset_index()\n",
    "    .merge(pop_estado, on='estado', how='left')\n",
    ")\n",
    "state = (\n",
    "    state \n",
    "    .assign(\n",
    "        pct = round((state.qtd_pessoas / state.total_pop) * 100, 2)\n",
    "    )    \n",
    ")\n",
    "pop_estado = px.bar(state, x='estado', y='pct', color='tempo_habitual_desloc', title='Tempo de deslocamento médio')"
   ]
  },
  {
   "cell_type": "code",
   "execution_count": 64,
   "metadata": {},
   "outputs": [],
   "source": [
    "tempo_medio = (\n",
    "    df \n",
    "    .query('tempo_habitual_desloc == \"Total\"')\n",
    "    .copy()\n",
    "    .groupby(['estado']).agg({'tempo_medio_minutos': 'mean', 'qtd_pessoas': 'sum'}) \n",
    "    .reset_index()\n",
    ")\n",
    "\n",
    "plot_tempo = px.bar(tempo_medio, x='estado', y='tempo_medio_minutos', title='Tempo de deslocamento médio por Estado')"
   ]
  },
  {
   "cell_type": "code",
   "execution_count": 67,
   "metadata": {},
   "outputs": [],
   "source": [
    "geodf = gdp.read_file('BR_localidades\\BR_Localidades_2010_v1.shp' )\n",
    "\n",
    "test = geodf[geodf['NM_CATEGOR'] == 'CIDADE'][['CD_GEOCODM', 'NM_LOCALID', 'LONG', 'LAT', 'geometry']]\n",
    "\n",
    "frame = df.merge(test, how='left', left_on='municipio_id', right_on='CD_GEOCODM')"
   ]
  },
  {
   "cell_type": "code",
   "execution_count": 79,
   "metadata": {},
   "outputs": [
    {
     "data": {
      "text/markdown": [
       "App saved to ./mobilidade_overview.html"
      ],
      "text/plain": [
       "<IPython.core.display.Markdown object>"
      ]
     },
     "metadata": {},
     "output_type": "display_data"
    }
   ],
   "source": [
    "r = dp.View(\n",
    "    dp.Text(\"\"\"\n",
    "    # Análise de tempo médio de deslocamento por cidade - 2010\n",
    "    Overview de tempo médio de deslocamento por cidades no Brasil em 2010.\\n \n",
    "    Base extraída da MobiliDados, via [Base dos Dados](https://basedosdados.org/dataset/e3edf621-c491-4d74-a03a-15a759f6e638?table=01114371-3b1b-4574-a3ea-3d7d2125b4f2).\n",
    "    \"\"\"),\n",
    "    dp.Select(\n",
    "        blocks=[\n",
    "            dp.Group(\n",
    "                dp.Plot(pop_estado, label='Tempo habitual de deslocamento'),\n",
    "                dp.Plot(plot_tempo, label='Tempo médio de deslocamento por estado'), \n",
    "                label='Plots'\n",
    "            ),\n",
    "            dp.Group(\n",
    "                dp.DataTable(df, label='Deslocamento por cidade'),\n",
    "                dp.Text(\"\"\"\n",
    "                ## Dicionário:\\n\n",
    "\n",
    "                - municipio_id: id do município\n",
    "                - municipio: nome da cidade\n",
    "                - estado: UF\n",
    "                - tempo_habitual_desloc: tempo médio de deslocamento (005 = Até 5 min / 030 = Até 30 min / 060 = Até 1h / 120 = Até 2h / 120+ = Mais de 2h)\"\"\",\n",
    "                label = 'Dicionário'),\n",
    "                label='Tabela'\n",
    "            )\n",
    "            ]\n",
    "            )\n",
    "    )\n",
    "dp.save_report(r, \"mobilidade_overview.html\", open=True)"
   ]
  },
  {
   "cell_type": "code",
   "execution_count": null,
   "metadata": {},
   "outputs": [],
   "source": []
  }
 ],
 "metadata": {
  "kernelspec": {
   "display_name": "Python 3",
   "language": "python",
   "name": "python3"
  },
  "language_info": {
   "codemirror_mode": {
    "name": "ipython",
    "version": 3
   },
   "file_extension": ".py",
   "mimetype": "text/x-python",
   "name": "python",
   "nbconvert_exporter": "python",
   "pygments_lexer": "ipython3",
   "version": "3.11.3"
  },
  "orig_nbformat": 4
 },
 "nbformat": 4,
 "nbformat_minor": 2
}
